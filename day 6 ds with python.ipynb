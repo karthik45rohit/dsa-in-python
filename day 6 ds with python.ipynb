{
 "cells": [
  {
   "cell_type": "code",
   "execution_count": null,
   "id": "31fe6f21-a7df-4b57-9c47-1ade2f43590a",
   "metadata": {},
   "outputs": [],
   "source": [
    "class linkedlist:\n",
    "    def __init__ (self):\n",
    "        self.head=None"
   ]
  },
  {
   "cell_type": "code",
   "execution_count": null,
   "id": "0ad83966-c6ba-4cbf-98b2-55ca4f5fb697",
   "metadata": {},
   "outputs": [],
   "source": [
    "class Node:\n",
    "    def __init__ (self,data):\n",
    "        self.data =data\n",
    "        self.next=None"
   ]
  },
  {
   "cell_type": "code",
   "execution_count": null,
   "id": "23baebc3-5059-4278-8e3a-acf4c5753a91",
   "metadata": {},
   "outputs": [],
   "source": [
    "def inserted(self,data):\n",
    "    nd1=Node(data)\n",
    "    if self.head==None:\n",
    "        self.head=nd1\n",
    "        return\n",
    "    current = self.head\n",
    "    while current.next:\n",
    "        current = current.next\n",
    "    current.next = nd1"
   ]
  },
  {
   "cell_type": "code",
   "execution_count": null,
   "id": "a8bb48c0-200c-43a4-a006-582cccd635a8",
   "metadata": {},
   "outputs": [],
   "source": [
    "class mylinkedlist:\n",
    "\n",
    "    def __init__(self):\n",
    "        self.head=None\n",
    "    def insert_beginning(self,data):\n",
    "        new_nd= Node(data)\n",
    "        new_nd.next =self.head\n",
    "        self.head = new_nd\n",
    "    def inserted(self,data):\n",
    "        nd1=Node(data)\n",
    "        if self.head==None:\n",
    "            self.head=nd1\n",
    "            return\n",
    "        current = self.head\n",
    "        while current.next:\n",
    "            current = current.next\n",
    "        current.next = nd1\n",
    "    def inssertaft(self,data,prev_Node):\n",
    "        new_Node = Node(data)\n",
    "        new_Node.next=prev_Node.next\n",
    "        prev_Node.next=new_Node\n",
    "\n",
    "    def print_LL(self):\n",
    "        current = self.head\n",
    "        while current:\n",
    "            print(current.data,end =\"-->\")\n",
    "            current = current.next\n",
    "    def search(self,val):\n",
    "        current=self.head\n",
    "        while current:\n",
    "            if current.data == val:\n",
    "                return True\n",
    "            current = current.next\n",
    "        return False\n",
    "    def deletefirst(self):\n",
    "         self.head=self.head.next\n",
    "    def delrteend(self):\n",
    "         if self.head==None:\n",
    "             return\n",
    "             current=self.head\n",
    "             while currrent.next.next:\n",
    "                 current=current.next\n",
    "                 current.next=None\n",
    "    def deletemid(self,val):\n",
    "        if self.head.data==val:\n",
    "            self.head = self.head.next\n",
    "        current = self.head\n",
    "        while current.next:\n",
    "            if current.next.data != val:\n",
    "                current = current.next\n",
    "            else:\n",
    "                break\n",
    "        if current.next:\n",
    "            current.next=current.next.next\n",
    "        else:\n",
    "            return \"not found\"\n",
    "             \n",
    "            \n",
    "            \n",
    "            \n",
    "                \n",
    "        "
   ]
  },
  {
   "cell_type": "code",
   "execution_count": null,
   "id": "e28681d6-dd66-4bcf-ba5b-307dfea6f9e5",
   "metadata": {},
   "outputs": [],
   "source": [
    "ll = mylinkedlist()\n",
    "ll.insert_beginning(19)\n",
    "ll.insert_beginning(20)\n",
    "ll.insert_beginning(56)\n",
    "ll.print_LL()\n",
    "\n"
   ]
  },
  {
   "cell_type": "code",
   "execution_count": null,
   "id": "4fd675ca-1682-4154-ba1c-6e0d26b071ad",
   "metadata": {},
   "outputs": [],
   "source": [
    "ll.print_LL()"
   ]
  },
  {
   "cell_type": "code",
   "execution_count": null,
   "id": "4941416b-203b-4857-a437-f25f8ffe97c2",
   "metadata": {},
   "outputs": [],
   "source": [
    "ll.deletefirst()"
   ]
  },
  {
   "cell_type": "code",
   "execution_count": null,
   "id": "92736975-3c14-4133-b05d-995d1669368c",
   "metadata": {},
   "outputs": [],
   "source": [
    "ll.print_LL()"
   ]
  },
  {
   "cell_type": "code",
   "execution_count": null,
   "id": "7a14ec41-ceba-411c-b545-0dc97ab07cc9",
   "metadata": {},
   "outputs": [],
   "source": [
    "ll.deletemid(20)"
   ]
  },
  {
   "cell_type": "code",
   "execution_count": null,
   "id": "33f280fc-b7ea-4efb-9d1b-f90dab0e3a6a",
   "metadata": {},
   "outputs": [],
   "source": [
    "ll.print_LL()"
   ]
  },
  {
   "cell_type": "markdown",
   "id": "c0dace84-11f7-4ed5-9f8e-73ee7730ff0b",
   "metadata": {},
   "source": [
    "create a class called \"Myqueue\" which can handle 1.enqueue 2.dequeue 3.is empty 3.display"
   ]
  },
  {
   "cell_type": "code",
   "execution_count": null,
   "id": "3015f105-dd69-4aa9-9504-79886a6d3785",
   "metadata": {},
   "outputs": [],
   "source": [
    "class myqueue:\n",
    "    def __init__(self):\n",
    "        self.s1=[]\n",
    "    def enqueue(self,x):\n",
    "        self.s1.append(x)\n",
    "    def dequeue(self):\n",
    "        if not self.isempty():\n",
    "            return self.s1.pop(0)\n",
    "        else:\n",
    "            return \"queue is empty\"\n",
    "    def isempty(self):\n",
    "        return len(self.s1)==0        \n",
    "    def display(self):\n",
    "        print(self.s1)"
   ]
  },
  {
   "cell_type": "code",
   "execution_count": null,
   "id": "6b030960-a266-417c-a9f4-f8c4baff8a01",
   "metadata": {},
   "outputs": [],
   "source": [
    "ll=myqueue()\n",
    "ll.enqueue(18)\n",
    "ll.enqueue(45)\n"
   ]
  },
  {
   "cell_type": "code",
   "execution_count": null,
   "id": "0bb61108-3266-4531-8602-117165fe0e71",
   "metadata": {},
   "outputs": [],
   "source": [
    "ll.display()"
   ]
  },
  {
   "cell_type": "code",
   "execution_count": null,
   "id": "c52c6a64-36c8-46ac-846f-a146abb7d0d5",
   "metadata": {},
   "outputs": [],
   "source": [
    "ll.dequeue()"
   ]
  },
  {
   "cell_type": "code",
   "execution_count": null,
   "id": "38bdcc7d-2785-4e1a-a34f-e0af1e31affe",
   "metadata": {},
   "outputs": [],
   "source": [
    "ll.display()"
   ]
  },
  {
   "cell_type": "code",
   "execution_count": null,
   "id": "4424f95e-58c9-4fd8-b015-619556f0da96",
   "metadata": {},
   "outputs": [],
   "source": [
    "ll.dequeue()"
   ]
  },
  {
   "cell_type": "code",
   "execution_count": null,
   "id": "618cac42-ee56-41c5-9998-cc18ebee9b98",
   "metadata": {},
   "outputs": [],
   "source": [
    "ll.display()"
   ]
  },
  {
   "cell_type": "code",
   "execution_count": null,
   "id": "3e126dd3-d6f6-40d6-b496-42d9316b4ead",
   "metadata": {},
   "outputs": [],
   "source": [
    "def sumarray(arr):\n",
    "    arr=[3,2,1,7,5,4,6]\n",
    "    a1=[]\n",
    "    a2=[]\n",
    "    for i in range (len(arr)):\n",
    "        if i%2 == 0:\n",
    "            a1.append(arr[i])\n",
    "        else:\n",
    "            a2.append(arr[i])\n",
    "print(\"even list is\",a1)\n",
    "print(\"odd list is\",a2)\n",
    "a1.sort(reverse = True)\n",
    "print(\"secound largest even\",a1)\n",
    "print(a1[1])\n",
    "a2.sort(reverse =True)\n",
    "print(\"secound lowest in odd\",a2)\n",
    "print(a2[2]) \n",
    "print(\"adition is\",a1[1] + a2[2])\n",
    "         "
   ]
  },
  {
   "cell_type": "markdown",
   "id": "9ed45fbd-62e7-47ca-93a6-4467679a3251",
   "metadata": {},
   "source": [
    "#circular queue implementation with a fixed size"
   ]
  },
  {
   "cell_type": "markdown",
   "id": "63a157a2-39c6-42e5-8bd2-c0202b2a0638",
   "metadata": {},
   "source": [
    "1.intialization:\n",
    "  - size\n",
    "  - front pointer(exit)\n",
    "  - rear pointer (enetr)\n",
    "  - queue (list)\n",
    "2.enqueue:\n",
    "  - queue is full(rear +1 ==front)\n",
    "  - front element(rear =front=0),then append\n",
    "  - entering anywhere exept at the begining (rear = rear+1 %size),then append"
   ]
  },
  {
   "cell_type": "code",
   "execution_count": null,
   "id": "f80a2eed-f1a1-4712-a56f-410b9a36e905",
   "metadata": {},
   "outputs": [],
   "source": [
    "class circular:\n",
    "    def __init__(self,size):\n",
    "        self.size =size\n",
    "        self.front =self.rear =-1\n",
    "        self.queue=[None]*size\n",
    "    def enqueue(self,val):\n",
    "        if(self.rear+1)%self.size ==self.front:\n",
    "            print (\"queue is full\")\n",
    "        elif self.front == -1:\n",
    "            self.front = self.rear = 0\n",
    "            self.queue[self.rear] = val\n",
    "        else:\n",
    "            self.rear =(self.rear+1)%self.size\n",
    "            self.queue[self.rear]=val\n",
    "    def dequeue(self):\n",
    "        if self.front== -1:\n",
    "            print(\"the queue is empty\")\n",
    "        elif self.front==self.rear:\n",
    "            self.front =self.rear=-1\n",
    "        else:\n",
    "            self.front =(self.front+1)%self.size\n",
    "    def display(self):\n",
    "        if self.front == -1:\n",
    "            print(\"queue is empty \")\n",
    "            return \n",
    "        i = self.front\n",
    "        while True:\n",
    "            if i == self.rear:\n",
    "                break\n",
    "        i =(i+1)%self.size\n",
    "    \n",
    "        "
   ]
  },
  {
   "cell_type": "code",
   "execution_count": null,
   "id": "7a81f98e-ea08-47aa-b752-b66fef90c2c1",
   "metadata": {},
   "outputs": [],
   "source": [
    "ll=circular(3)\n",
    "ll.enqueue(12)\n",
    "ll.enqueue(2)\n",
    "ll.enqueue(45)"
   ]
  },
  {
   "cell_type": "code",
   "execution_count": null,
   "id": "c984f040-df96-4768-b519-a87a4b5f944d",
   "metadata": {},
   "outputs": [],
   "source": [
    "ll.dequeue()\n",
    "ll.dequeue()\n",
    "ll.dequeue()\n"
   ]
  },
  {
   "cell_type": "code",
   "execution_count": null,
   "id": "67fa2d48-865a-4b76-b00b-eab857b4105c",
   "metadata": {},
   "outputs": [],
   "source": [
    "ll.display()"
   ]
  },
  {
   "cell_type": "code",
   "execution_count": null,
   "id": "859a0a44-c342-496a-aa10-93ebdb6e3612",
   "metadata": {},
   "outputs": [],
   "source": [
    "def diffrentsum(m,n):\n",
    "    a=0\n",
    "    b=0\n",
    "    for i in range(m+1):\n",
    "        if i%n==0:\n",
    "            a+=i\n",
    "        else:\n",
    "            b+=i\n",
    "    return b -a\n",
    "print(diffrentsum(20,4))"
   ]
  },
  {
   "cell_type": "code",
   "execution_count": null,
   "id": "d29d7090-4eaa-49f8-bb43-9ab4800f0456",
   "metadata": {},
   "outputs": [],
   "source": [
    "def cheakpassword(char,n):\n",
    "    str=0\n",
    "    n=0\n",
    "    if len(n)>=4:\n",
    "        return \n",
    "    if str.isdigit():\n",
    "        return \n",
    "    if str.isupper():\n",
    "        return \n",
    "    \n",
    "   \n",
    "    \n",
    "    \n",
    "    "
   ]
  },
  {
   "cell_type": "markdown",
   "id": "21ede297-b987-45e3-8e53-72f042b1b0d6",
   "metadata": {},
   "source": [
    "create a binary tree"
   ]
  },
  {
   "cell_type": "code",
   "execution_count": 40,
   "id": "73d3b1c1-5906-4f5b-8391-80311b822f36",
   "metadata": {},
   "outputs": [],
   "source": [
    "class mytree:\n",
    "    class treenode:\n",
    "        def __init__(self,data):\n",
    "            self.data=data\n",
    "            self.left=None\n",
    "            self.right=None\n",
    "    def __init__(self):\n",
    "        self.root = None\n",
    "    def insert(self,data):\n",
    "        new_nd=mytree.treenode(data)\n",
    "        if self.root == None:\n",
    "            self.root = new_nd\n",
    "            return\n",
    "        current = self.root\n",
    "        while True:\n",
    "            if data<current.data:\n",
    "                if current.left is None:\n",
    "                    current.left =new_nd\n",
    "                    break\n",
    "                else:\n",
    "                    current = current.left\n",
    "            else:\n",
    "                if current.right is None:\n",
    "                        current.right=new_nd\n",
    "                        break\n",
    "                else:\n",
    "                    current = current.right\n",
    "    def search(self,val):\n",
    "        current=self.root\n",
    "        while current :\n",
    "            if current.data==val:\n",
    "                return True\n",
    "                break\n",
    "            elif val<current.data:\n",
    "                current=current.left\n",
    "            else:\n",
    "                current=current.right\n",
    "            return False\n",
    "    def pre_order_traversal(self,node):\n",
    "        if node:\n",
    "            print(node,value,end=' ')\n",
    "            self.prev_order_traversal(node,left)\n",
    "            self.prev_order_traversal(node,right)\n",
    "    def pre_order_traversal(self,node):\n",
    "        if node:\n",
    "            self.prev_order_traversal(node,left)\n",
    "            self.prev_order_traversal(node,right)\n",
    "            print(node,value,end=' ')   \n",
    "            "
   ]
  },
  {
   "cell_type": "code",
   "execution_count": 41,
   "id": "e65589f0-a5a9-4568-a938-b19cc82aca95",
   "metadata": {},
   "outputs": [],
   "source": [
    "ll=mytree()\n",
    "ll.insert(11)\n",
    "ll.insert(9)\n",
    "ll.insert(12)\n",
    "ll.insert(7)\n",
    "ll.insert(10)"
   ]
  },
  {
   "cell_type": "code",
   "execution_count": 42,
   "id": "739f4fa0-4603-40c1-b8ce-3751f2bc482b",
   "metadata": {},
   "outputs": [
    {
     "data": {
      "text/plain": [
       "False"
      ]
     },
     "execution_count": 42,
     "metadata": {},
     "output_type": "execute_result"
    }
   ],
   "source": [
    "ll.search(10)"
   ]
  },
  {
   "cell_type": "code",
   "execution_count": 61,
   "id": "c0ea8d07-9ff4-4012-8b23-8fa279d0c23f",
   "metadata": {},
   "outputs": [],
   "source": [
    "def food(r,unit,arr):\n",
    "    if len(arr)==0:\n",
    "        return -1\n",
    "    total_food =r*unit\n",
    "    foodsofar=0\n",
    "    for i in range(len(arr)):\n",
    "        foodsofar=foodsofar+arr[i]\n",
    "        if foodsofar >= total_food:\n",
    "            print(i+1)\n",
    "            break\n",
    "    return 0\n",
    "        \n",
    "    \n",
    "    "
   ]
  },
  {
   "cell_type": "code",
   "execution_count": 62,
   "id": "ecfa064a-97a1-4e1c-ae9a-37a5fdadcde6",
   "metadata": {},
   "outputs": [
    {
     "name": "stdout",
     "output_type": "stream",
     "text": [
      "3\n"
     ]
    },
    {
     "data": {
      "text/plain": [
       "0"
      ]
     },
     "execution_count": 62,
     "metadata": {},
     "output_type": "execute_result"
    }
   ],
   "source": [
    "arr=[12,2,4,5]\n",
    "food(5,3,arr)"
   ]
  },
  {
   "cell_type": "markdown",
   "id": "6da37b06-9b86-461a-91f9-366c3d62a6f5",
   "metadata": {},
   "source": [
    "TAKE A NUMBER FROM THE USER AND PRINT ALL YHE FACTORS THAT IS DIVIDE BY OF THE NUMBER"
   ]
  },
  {
   "cell_type": "code",
   "execution_count": null,
   "id": "d71ad004-8f11-4017-89da-2973a48d3b79",
   "metadata": {},
   "outputs": [],
   "source": []
  }
 ],
 "metadata": {
  "kernelspec": {
   "display_name": "Python 3 (ipykernel)",
   "language": "python",
   "name": "python3"
  },
  "language_info": {
   "codemirror_mode": {
    "name": "ipython",
    "version": 3
   },
   "file_extension": ".py",
   "mimetype": "text/x-python",
   "name": "python",
   "nbconvert_exporter": "python",
   "pygments_lexer": "ipython3",
   "version": "3.11.7"
  }
 },
 "nbformat": 4,
 "nbformat_minor": 5
}
